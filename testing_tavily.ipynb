{
 "cells": [
  {
   "cell_type": "code",
   "execution_count": 1,
   "metadata": {},
   "outputs": [
    {
     "name": "stdout",
     "output_type": "stream",
     "text": [
      "{'query': 'Who is Leo Messi?', 'follow_up_questions': None, 'answer': None, 'images': [], 'results': [{'title': '33 Best Facts Of Messi', 'url': 'https://facts.net/lifestyle/sports/33-best-facts-of-messi/', 'content': 'Messi, also known as Lionel Andrés Messi, is a legendary footballer from Argentina who has set numerous records and won multiple awards throughout his career, captivating fans worldwide with his exceptional talent and philanthropic endeavors.', 'score': 0.99823856, 'raw_content': None}, {'title': 'Lionel Messi Biography - Facts, Childhood, Family Life & Achievements', 'url': 'https://www.thefamouspeople.com/profiles/lionel-messi-5242.php', 'content': \"Lionel Messi has won multiple FIFA Ballon d'Or awards, numerous La Liga titles with FC Barcelona, and holds the record for most goals scored in a calendar year. In the finals too Messi scored the winning goal to give Barcelona their third title in six years and fourth overall. In the 2018 Football World Cup Messi scored a goal in the Argentina's final group match against Nigeria and helped his team to a 2-1 victory. Messi has in his kitty 20 Player of the Year awards including FIFA World Player of the Year (1), World Soccer Player of the Year (3), Goal.com Player of the Year (2), UEFA Best Player in Europe Award (1), UEFA Club Footballer of the Year (1), FIFA U-20 World Cup Player of the Tournament (1), La Liga Player of the Year (3), La Liga Foreign Player of the Year (3) and La Liga Ibero-American Player of the Year (5).\", 'score': 0.92762595, 'raw_content': None}, {'title': 'Lionel Messi: The evolution of the greatest footballer of all time', 'url': 'https://www.nytimes.com/athletic/4679809/2023/07/19/lionel-messi-evolution-barcelona-argentina/', 'content': \"Lionel Messi profile: The life and times of Inter Miami's World Cup winner; The Dribbling Winger. Next time you've got a minute to reconsider whether you've ever truly been good at anything,\", 'score': 0.90515476, 'raw_content': None}, {'title': '50 Facts About Lionel Messi', 'url': 'https://facts.net/lifestyle/sports/50-facts-about-lionel-messi/', 'content': \"50 Facts About Lionel Messi - Facts.net Everything Else Facts Everything Else Facts 50 Facts About Lionel Messi Early Success: Within three years of his debut, Messi established himself as an integral player for FC Barcelona, helping the team achieve numerous titles and setting records that would be hard to break. La Liga Titles: Messi has won ten La Liga titles with FC Barcelona, making him one of the most successful players in the league's history. Club Goals: Messi has scored over 850 senior career goals for club and country, making him one of the highest-scoring players in football history. FIFA Club World Cup Wins: Messi has won one FIFA Club World Cup title with FC Barcelona, demonstrating his team's global success. 33 Best Facts Of Messi More Facts\", 'score': 0.8872046, 'raw_content': None}, {'title': \"Lionel Messi | Records, Height, Ballon d'Or, Inter Miami, & Facts ...\", 'url': 'https://www.britannica.com/biography/Lionel-Messi', 'content': 'In early 2009 Messi capped off a spectacular 2008–09 season by helping FC Barcelona capture the club’s first “treble” (winning three major European club titles in one season): the team won the La Liga championship, the Copa del Rey (Spain’s major domestic cup), and the Champions League title. Messi’s play continued to rapidly improve over the years, and by 2008 he was one of the most dominant players in the world, finishing second to Manchester United’s Cristiano Ronaldo in the voting for the 2008 Ballon d’Or. At the 2014 World Cup, Messi put on a dazzling display, scoring four goals and almost single-handedly propelling an offense-deficient Argentina team through the group stage and into the knockout rounds, where Argentina then advanced to the World Cup final for the first time in 24 years. After Argentina was defeated in the Copa final—the team’s third consecutive finals loss in a major tournament—Messi said that he was quitting the national team, but his short-lived “retirement” lasted less than two months before he announced his return to the Argentine team. Messi helped Barcelona capture another treble during the 2014–15 season, leading the team with 43 goals scored over the course of the campaign, which resulted in his fifth world player of the year honour.', 'score': 0.8749346, 'raw_content': None}], 'response_time': 2.24}\n"
     ]
    }
   ],
   "source": [
    "import os\n",
    "from dotenv import load_dotenv\n",
    "\n",
    "# Load the variables from .env\n",
    "load_dotenv()  \n",
    "\n",
    "# Access the API key\n",
    "tavily_api_key = os.getenv(\"TAVILY_API_KEY\")\n",
    "\n",
    "# Now you can use tavily_api_key in your Tavily client\n",
    "from tavily import TavilyClient\n",
    "\n",
    "tavily_client = TavilyClient(api_key=tavily_api_key) \n",
    "\n",
    "response = tavily_client.search(\"Who is Leo Messi?\")\n",
    "print(response)"
   ]
  },
  {
   "cell_type": "code",
   "execution_count": 3,
   "metadata": {},
   "outputs": [
    {
     "data": {
      "text/plain": [
       "dict_keys(['query', 'follow_up_questions', 'answer', 'images', 'results', 'response_time'])"
      ]
     },
     "execution_count": 3,
     "metadata": {},
     "output_type": "execute_result"
    }
   ],
   "source": [
    "response.keys()"
   ]
  },
  {
   "cell_type": "code",
   "execution_count": 11,
   "metadata": {},
   "outputs": [
    {
     "data": {
      "text/plain": [
       "'Messi, also known as Lionel Andrés Messi, is a legendary footballer from Argentina who has set numerous records and won multiple awards throughout his career, captivating fans worldwide with his exceptional talent and philanthropic endeavors.'"
      ]
     },
     "execution_count": 11,
     "metadata": {},
     "output_type": "execute_result"
    }
   ],
   "source": [
    "response[\"results\"][0][\"content\"]"
   ]
  },
  {
   "cell_type": "code",
   "execution_count": 12,
   "metadata": {},
   "outputs": [
    {
     "data": {
      "text/plain": [
       "[{'title': '33 Best Facts Of Messi',\n",
       "  'url': 'https://facts.net/lifestyle/sports/33-best-facts-of-messi/',\n",
       "  'content': 'Messi, also known as Lionel Andrés Messi, is a legendary footballer from Argentina who has set numerous records and won multiple awards throughout his career, captivating fans worldwide with his exceptional talent and philanthropic endeavors.',\n",
       "  'score': 0.99823856,\n",
       "  'raw_content': None},\n",
       " {'title': 'Lionel Messi Biography - Facts, Childhood, Family Life & Achievements',\n",
       "  'url': 'https://www.thefamouspeople.com/profiles/lionel-messi-5242.php',\n",
       "  'content': \"Lionel Messi has won multiple FIFA Ballon d'Or awards, numerous La Liga titles with FC Barcelona, and holds the record for most goals scored in a calendar year. In the finals too Messi scored the winning goal to give Barcelona their third title in six years and fourth overall. In the 2018 Football World Cup Messi scored a goal in the Argentina's final group match against Nigeria and helped his team to a 2-1 victory. Messi has in his kitty 20 Player of the Year awards including FIFA World Player of the Year (1), World Soccer Player of the Year (3), Goal.com Player of the Year (2), UEFA Best Player in Europe Award (1), UEFA Club Footballer of the Year (1), FIFA U-20 World Cup Player of the Tournament (1), La Liga Player of the Year (3), La Liga Foreign Player of the Year (3) and La Liga Ibero-American Player of the Year (5).\",\n",
       "  'score': 0.92762595,\n",
       "  'raw_content': None},\n",
       " {'title': 'Lionel Messi: The evolution of the greatest footballer of all time',\n",
       "  'url': 'https://www.nytimes.com/athletic/4679809/2023/07/19/lionel-messi-evolution-barcelona-argentina/',\n",
       "  'content': \"Lionel Messi profile: The life and times of Inter Miami's World Cup winner; The Dribbling Winger. Next time you've got a minute to reconsider whether you've ever truly been good at anything,\",\n",
       "  'score': 0.90515476,\n",
       "  'raw_content': None},\n",
       " {'title': '50 Facts About Lionel Messi',\n",
       "  'url': 'https://facts.net/lifestyle/sports/50-facts-about-lionel-messi/',\n",
       "  'content': \"50 Facts About Lionel Messi - Facts.net Everything Else Facts Everything Else Facts 50 Facts About Lionel Messi Early Success: Within three years of his debut, Messi established himself as an integral player for FC Barcelona, helping the team achieve numerous titles and setting records that would be hard to break. La Liga Titles: Messi has won ten La Liga titles with FC Barcelona, making him one of the most successful players in the league's history. Club Goals: Messi has scored over 850 senior career goals for club and country, making him one of the highest-scoring players in football history. FIFA Club World Cup Wins: Messi has won one FIFA Club World Cup title with FC Barcelona, demonstrating his team's global success. 33 Best Facts Of Messi More Facts\",\n",
       "  'score': 0.8872046,\n",
       "  'raw_content': None},\n",
       " {'title': \"Lionel Messi | Records, Height, Ballon d'Or, Inter Miami, & Facts ...\",\n",
       "  'url': 'https://www.britannica.com/biography/Lionel-Messi',\n",
       "  'content': 'In early 2009 Messi capped off a spectacular 2008–09 season by helping FC Barcelona capture the club’s first “treble” (winning three major European club titles in one season): the team won the La Liga championship, the Copa del Rey (Spain’s major domestic cup), and the Champions League title. Messi’s play continued to rapidly improve over the years, and by 2008 he was one of the most dominant players in the world, finishing second to Manchester United’s Cristiano Ronaldo in the voting for the 2008 Ballon d’Or. At the 2014 World Cup, Messi put on a dazzling display, scoring four goals and almost single-handedly propelling an offense-deficient Argentina team through the group stage and into the knockout rounds, where Argentina then advanced to the World Cup final for the first time in 24 years. After Argentina was defeated in the Copa final—the team’s third consecutive finals loss in a major tournament—Messi said that he was quitting the national team, but his short-lived “retirement” lasted less than two months before he announced his return to the Argentine team. Messi helped Barcelona capture another treble during the 2014–15 season, leading the team with 43 goals scored over the course of the campaign, which resulted in his fifth world player of the year honour.',\n",
       "  'score': 0.8749346,\n",
       "  'raw_content': None}]"
      ]
     },
     "execution_count": 12,
     "metadata": {},
     "output_type": "execute_result"
    }
   ],
   "source": [
    "response[\"results\"]"
   ]
  },
  {
   "cell_type": "code",
   "execution_count": 14,
   "metadata": {},
   "outputs": [
    {
     "name": "stdout",
     "output_type": "stream",
     "text": [
      "Messi, also known as Lionel Andrés Messi, is a legendary footballer from Argentina who has set numerous records and won multiple awards throughout his career, captivating fans worldwide with his exceptional talent and philanthropic endeavors.\n",
      "Lionel Messi has won multiple FIFA Ballon d'Or awards, numerous La Liga titles with FC Barcelona, and holds the record for most goals scored in a calendar year. In the finals too Messi scored the winning goal to give Barcelona their third title in six years and fourth overall. In the 2018 Football World Cup Messi scored a goal in the Argentina's final group match against Nigeria and helped his team to a 2-1 victory. Messi has in his kitty 20 Player of the Year awards including FIFA World Player of the Year (1), World Soccer Player of the Year (3), Goal.com Player of the Year (2), UEFA Best Player in Europe Award (1), UEFA Club Footballer of the Year (1), FIFA U-20 World Cup Player of the Tournament (1), La Liga Player of the Year (3), La Liga Foreign Player of the Year (3) and La Liga Ibero-American Player of the Year (5).\n",
      "Lionel Messi profile: The life and times of Inter Miami's World Cup winner; The Dribbling Winger. Next time you've got a minute to reconsider whether you've ever truly been good at anything,\n"
     ]
    }
   ],
   "source": [
    "# Filtering only those which are having score > 0.90\n",
    "filtered_results = []\n",
    "\n",
    "for result in response['results']:\n",
    "    if result['score'] > 0.90:\n",
    "        filtered_results.append(result)\n",
    "        \n",
    "        \n",
    "# Now filtered_results contains only the results with score > 0.90\n",
    "for result in filtered_results:\n",
    "    print(result['content'])  # Print the content of the filtered results        \n",
    "        "
   ]
  }
 ],
 "metadata": {
  "kernelspec": {
   "display_name": "venv",
   "language": "python",
   "name": "python3"
  },
  "language_info": {
   "codemirror_mode": {
    "name": "ipython",
    "version": 3
   },
   "file_extension": ".py",
   "mimetype": "text/x-python",
   "name": "python",
   "nbconvert_exporter": "python",
   "pygments_lexer": "ipython3",
   "version": "3.9.21"
  }
 },
 "nbformat": 4,
 "nbformat_minor": 2
}
